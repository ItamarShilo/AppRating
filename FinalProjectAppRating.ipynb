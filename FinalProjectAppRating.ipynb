{
  "cells": [
    {
      "cell_type": "markdown",
      "metadata": {
        "id": "view-in-github",
        "colab_type": "text"
      },
      "source": [
        "<a href=\"https://colab.research.google.com/github/ItamarShilo/AppRating/blob/main/FinalProjectAppRating.ipynb\" target=\"_parent\"><img src=\"https://colab.research.google.com/assets/colab-badge.svg\" alt=\"Open In Colab\"/></a>"
      ]
    },
    {
      "cell_type": "code",
      "source": [
        "'''!sudo apt-get update -y\n",
        "!sudo apt-get install python3.9\n",
        "#change alternatives\n",
        "!sudo update-alternatives --install /usr/bin/python3 python3 /usr/bin/python3.9 7'''"
      ],
      "metadata": {
        "id": "VFqz6InzfmOy",
        "colab": {
          "base_uri": "https://localhost:8080/"
        },
        "outputId": "3786d566-ca09-4d6e-9f28-d8d95073c11f"
      },
      "execution_count": null,
      "outputs": [
        {
          "output_type": "stream",
          "name": "stdout",
          "text": [
            "\r0% [Working]\r            \rGet:1 https://cloud.r-project.org/bin/linux/ubuntu focal-cran40/ InRelease [3,622 B]\n",
            "\r0% [Connecting to archive.ubuntu.com (185.125.190.39)] [Connecting to security.\r                                                                               \rGet:2 https://developer.download.nvidia.com/compute/cuda/repos/ubuntu2004/x86_64  InRelease [1,581 B]\n",
            "Get:3 http://security.ubuntu.com/ubuntu focal-security InRelease [114 kB]\n",
            "Hit:4 http://ppa.launchpad.net/c2d4u.team/c2d4u4.0+/ubuntu focal InRelease\n",
            "Hit:5 http://archive.ubuntu.com/ubuntu focal InRelease\n",
            "Get:6 https://developer.download.nvidia.com/compute/cuda/repos/ubuntu2004/x86_64  Packages [1,012 kB]\n",
            "Get:7 http://archive.ubuntu.com/ubuntu focal-updates InRelease [114 kB]\n",
            "Hit:8 http://ppa.launchpad.net/cran/libgit2/ubuntu focal InRelease\n",
            "Get:9 http://security.ubuntu.com/ubuntu focal-security/restricted amd64 Packages [2,352 kB]\n",
            "Hit:10 http://ppa.launchpad.net/deadsnakes/ppa/ubuntu focal InRelease\n",
            "Get:11 http://archive.ubuntu.com/ubuntu focal-backports InRelease [108 kB]\n",
            "Hit:12 http://ppa.launchpad.net/graphics-drivers/ppa/ubuntu focal InRelease\n",
            "Get:13 http://security.ubuntu.com/ubuntu focal-security/main amd64 Packages [2,781 kB]\n",
            "Get:14 http://archive.ubuntu.com/ubuntu focal-updates/universe amd64 Packages [1,356 kB]\n",
            "Get:15 http://security.ubuntu.com/ubuntu focal-security/universe amd64 Packages [1,060 kB]\n",
            "Hit:16 http://ppa.launchpad.net/ubuntugis/ppa/ubuntu focal InRelease\n",
            "Get:17 http://archive.ubuntu.com/ubuntu focal-updates/restricted amd64 Packages [2,490 kB]\n",
            "Get:18 http://archive.ubuntu.com/ubuntu focal-updates/main amd64 Packages [3,260 kB]\n",
            "Fetched 14.7 MB in 2s (5,879 kB/s)\n",
            "Reading package lists... Done\n",
            "Reading package lists... Done\n",
            "Building dependency tree       \n",
            "Reading state information... Done\n",
            "The following additional packages will be installed:\n",
            "  libpython3.9-minimal libpython3.9-stdlib python3.9-minimal\n",
            "Suggested packages:\n",
            "  python3.9-venv binfmt-support\n",
            "The following NEW packages will be installed:\n",
            "  libpython3.9-minimal libpython3.9-stdlib python3.9 python3.9-minimal\n",
            "0 upgraded, 4 newly installed, 0 to remove and 56 not upgraded.\n",
            "Need to get 5,030 kB of archives.\n",
            "After this operation, 19.7 MB of additional disk space will be used.\n",
            "Get:1 http://ppa.launchpad.net/deadsnakes/ppa/ubuntu focal/main amd64 libpython3.9-minimal amd64 3.9.17-1+focal1 [805 kB]\n",
            "Get:2 http://ppa.launchpad.net/deadsnakes/ppa/ubuntu focal/main amd64 python3.9-minimal amd64 3.9.17-1+focal1 [2,064 kB]\n",
            "Get:3 http://ppa.launchpad.net/deadsnakes/ppa/ubuntu focal/main amd64 libpython3.9-stdlib amd64 3.9.17-1+focal1 [1,666 kB]\n",
            "Get:4 http://ppa.launchpad.net/deadsnakes/ppa/ubuntu focal/main amd64 python3.9 amd64 3.9.17-1+focal1 [495 kB]\n",
            "Fetched 5,030 kB in 4s (1,178 kB/s)\n",
            "debconf: unable to initialize frontend: Dialog\n",
            "debconf: (No usable dialog-like program is installed, so the dialog based frontend cannot be used. at /usr/share/perl5/Debconf/FrontEnd/Dialog.pm line 76, <> line 4.)\n",
            "debconf: falling back to frontend: Readline\n",
            "debconf: unable to initialize frontend: Readline\n",
            "debconf: (This frontend requires a controlling tty.)\n",
            "debconf: falling back to frontend: Teletype\n",
            "dpkg-preconfigure: unable to re-open stdin: \n",
            "Selecting previously unselected package libpython3.9-minimal:amd64.\n",
            "(Reading database ... 122541 files and directories currently installed.)\n",
            "Preparing to unpack .../libpython3.9-minimal_3.9.17-1+focal1_amd64.deb ...\n",
            "Unpacking libpython3.9-minimal:amd64 (3.9.17-1+focal1) ...\n",
            "Selecting previously unselected package python3.9-minimal.\n",
            "Preparing to unpack .../python3.9-minimal_3.9.17-1+focal1_amd64.deb ...\n",
            "Unpacking python3.9-minimal (3.9.17-1+focal1) ...\n",
            "Selecting previously unselected package libpython3.9-stdlib:amd64.\n",
            "Preparing to unpack .../libpython3.9-stdlib_3.9.17-1+focal1_amd64.deb ...\n",
            "Unpacking libpython3.9-stdlib:amd64 (3.9.17-1+focal1) ...\n",
            "Selecting previously unselected package python3.9.\n",
            "Preparing to unpack .../python3.9_3.9.17-1+focal1_amd64.deb ...\n",
            "Unpacking python3.9 (3.9.17-1+focal1) ...\n",
            "Setting up libpython3.9-minimal:amd64 (3.9.17-1+focal1) ...\n",
            "Setting up python3.9-minimal (3.9.17-1+focal1) ...\n",
            "Setting up libpython3.9-stdlib:amd64 (3.9.17-1+focal1) ...\n",
            "Setting up python3.9 (3.9.17-1+focal1) ...\n",
            "Processing triggers for man-db (2.9.1-1) ...\n",
            "Processing triggers for mime-support (3.64ubuntu1) ...\n",
            "update-alternatives: using /usr/bin/python3.9 to provide /usr/bin/python3 (python3) in auto mode\n"
          ]
        }
      ]
    },
    {
      "cell_type": "code",
      "source": [
        "!python --version"
      ],
      "metadata": {
        "id": "nb421eDbkpun",
        "colab": {
          "base_uri": "https://localhost:8080/"
        },
        "outputId": "1447d5eb-edb9-4380-b88c-846ebbe818fd"
      },
      "execution_count": null,
      "outputs": [
        {
          "output_type": "stream",
          "name": "stdout",
          "text": [
            "Python 3.9.17\n"
          ]
        }
      ]
    },
    {
      "cell_type": "markdown",
      "metadata": {
        "id": "xjO1ROi-PZYy"
      },
      "source": [
        "# App Rating"
      ]
    },
    {
      "cell_type": "markdown",
      "source": [
        "**Project's Goals:**\n",
        "\n",
        "In this project, I analyze the ranking of applications in the Google Play store.\n",
        "My goal throughout the project will be to identify patterns and characteristics that influence an application's rating level. Following that, I will try to predict the rating level of the app using these patterns.\n",
        "\n",
        "The results of the project can be used to predict which apps are more likely to succeed in the real world.\n",
        " App developers and entrepreneurs can use this information to create successful apps, as well as investors to determine which apps are worth investing in.\n",
        "\n",
        "**Project field** - mobile application.\n"
      ],
      "metadata": {
        "id": "ZG0lIzbxNY2M"
      }
    },
    {
      "cell_type": "markdown",
      "source": [
        "**research questions**\n",
        "\n",
        "Is there a difference in rating levels between the categories of the app?\n",
        "\n",
        "Are downloads and reviews of an application indicative of its level of satisfaction?\n",
        "\n",
        "Do free apps get higher ratings than paid apps?\n",
        "\n",
        "Does the app rating increase over the years?\n",
        "\n",
        "Do apps aimed at young people get a different rating than apps aimed at adults?\n"
      ],
      "metadata": {
        "id": "CL0DQTpvERsj"
      }
    },
    {
      "cell_type": "markdown",
      "source": [
        "**Database:**\n",
        "\n",
        "The data was collected from the Google App Store.\n",
        "\n",
        "There are more than 8,000 views of different apps.\n",
        "\n",
        "**Description of the variables:**\n",
        "\n",
        "* App - Application name\n",
        "* Category - Category the app belongs to\n",
        "* Rating - Overall user rating of the app\n",
        "* Reviews - Number of user reviews for the app\n",
        "* Size - Size of the app\n",
        "* Intalls - Number of user downloads/installs for the app\n",
        "* Type - Paid or Free\n",
        "* Price - Price of the app\n",
        "* Content Rating - Age group the app is targeted at\n",
        "* Geners - An app can belong to multiple genres (apart from its main category).\n",
        "* Last Update - last update date of release\n",
        "* Current Ver - current app version\n",
        "* Android Ver - device’s android version the app compatible with\n",
        "\n"
      ],
      "metadata": {
        "id": "1a6P4Gj0OE3Y"
      }
    },
    {
      "cell_type": "markdown",
      "source": [
        "## Importing"
      ],
      "metadata": {
        "id": "WkSMGhRRqYwg"
      }
    },
    {
      "cell_type": "markdown",
      "metadata": {
        "id": "nANWucBeN_p6"
      },
      "source": [
        "importing packages"
      ]
    },
    {
      "cell_type": "code",
      "execution_count": null,
      "metadata": {
        "id": "FDAscUnVLbL9"
      },
      "outputs": [],
      "source": [
        "import warnings\n",
        "warnings.filterwarnings('ignore')\n",
        "#%autosave 5\n",
        "import numpy as np\n",
        "import pandas as pd\n",
        "import matplotlib.pyplot as plt\n",
        "%matplotlib inline\n",
        "import seaborn as sns\n",
        "sns.set(style='whitegrid',\n",
        "        palette=\"deep\",\n",
        "        font_scale=1.1,\n",
        "        rc={\"figure.figsize\": [12, 7.5]})\n",
        "import scipy.stats as stats\n",
        "from datetime import datetime\n",
        "from dateutil import parser\n",
        "from pandas_datareader import data\n",
        "#from google.colab import files"
      ]
    },
    {
      "cell_type": "markdown",
      "metadata": {
        "id": "Im3b959gOx5m"
      },
      "source": [
        "importing data"
      ]
    },
    {
      "cell_type": "code",
      "execution_count": null,
      "metadata": {
        "id": "yoY5vZNoOdLK"
      },
      "outputs": [],
      "source": [
        "data = pd.read_csv('googleplaystore.csv')"
      ]
    },
    {
      "cell_type": "markdown",
      "source": [
        "Sample from the data"
      ],
      "metadata": {
        "id": "ECUroUG2QiQF"
      }
    },
    {
      "cell_type": "code",
      "execution_count": null,
      "metadata": {
        "id": "RsH-4XV0PnzO",
        "colab": {
          "base_uri": "https://localhost:8080/"
        },
        "outputId": "81ac999b-30d2-46f7-b311-cb5e9965e4a7"
      },
      "outputs": [
        {
          "output_type": "execute_result",
          "data": {
            "text/plain": [
              "                                                 App        Category  Rating  \\\n",
              "0     Photo Editor & Candy Camera & Grid & ScrapBook  ART_AND_DESIGN     4.1   \n",
              "1                                Coloring book moana  ART_AND_DESIGN     3.9   \n",
              "2  U Launcher Lite – FREE Live Cool Themes, Hide ...  ART_AND_DESIGN     4.7   \n",
              "3                              Sketch - Draw & Paint  ART_AND_DESIGN     4.5   \n",
              "4              Pixel Draw - Number Art Coloring Book  ART_AND_DESIGN     4.3   \n",
              "\n",
              "  Reviews  Size     Installs  Type Price Content Rating  \\\n",
              "0     159   19M      10,000+  Free     0       Everyone   \n",
              "1     967   14M     500,000+  Free     0       Everyone   \n",
              "2   87510  8.7M   5,000,000+  Free     0       Everyone   \n",
              "3  215644   25M  50,000,000+  Free     0           Teen   \n",
              "4     967  2.8M     100,000+  Free     0       Everyone   \n",
              "\n",
              "                      Genres      Last Updated         Current Ver  \\\n",
              "0               Art & Design   January 7, 2018               1.0.0   \n",
              "1  Art & Design;Pretend Play  January 15, 2018               2.0.0   \n",
              "2               Art & Design    August 1, 2018               1.2.4   \n",
              "3               Art & Design      June 8, 2018  Varies with device   \n",
              "4    Art & Design;Creativity     June 20, 2018                 1.1   \n",
              "\n",
              "    Android Ver  \n",
              "0  4.0.3 and up  \n",
              "1  4.0.3 and up  \n",
              "2  4.0.3 and up  \n",
              "3    4.2 and up  \n",
              "4    4.4 and up  "
            ],
            "text/html": [
              "\n",
              "  <div id=\"df-6f9f0b4c-ae6b-485f-a060-78c6ccea4425\">\n",
              "    <div class=\"colab-df-container\">\n",
              "      <div>\n",
              "<style scoped>\n",
              "    .dataframe tbody tr th:only-of-type {\n",
              "        vertical-align: middle;\n",
              "    }\n",
              "\n",
              "    .dataframe tbody tr th {\n",
              "        vertical-align: top;\n",
              "    }\n",
              "\n",
              "    .dataframe thead th {\n",
              "        text-align: right;\n",
              "    }\n",
              "</style>\n",
              "<table border=\"1\" class=\"dataframe\">\n",
              "  <thead>\n",
              "    <tr style=\"text-align: right;\">\n",
              "      <th></th>\n",
              "      <th>App</th>\n",
              "      <th>Category</th>\n",
              "      <th>Rating</th>\n",
              "      <th>Reviews</th>\n",
              "      <th>Size</th>\n",
              "      <th>Installs</th>\n",
              "      <th>Type</th>\n",
              "      <th>Price</th>\n",
              "      <th>Content Rating</th>\n",
              "      <th>Genres</th>\n",
              "      <th>Last Updated</th>\n",
              "      <th>Current Ver</th>\n",
              "      <th>Android Ver</th>\n",
              "    </tr>\n",
              "  </thead>\n",
              "  <tbody>\n",
              "    <tr>\n",
              "      <th>0</th>\n",
              "      <td>Photo Editor &amp; Candy Camera &amp; Grid &amp; ScrapBook</td>\n",
              "      <td>ART_AND_DESIGN</td>\n",
              "      <td>4.1</td>\n",
              "      <td>159</td>\n",
              "      <td>19M</td>\n",
              "      <td>10,000+</td>\n",
              "      <td>Free</td>\n",
              "      <td>0</td>\n",
              "      <td>Everyone</td>\n",
              "      <td>Art &amp; Design</td>\n",
              "      <td>January 7, 2018</td>\n",
              "      <td>1.0.0</td>\n",
              "      <td>4.0.3 and up</td>\n",
              "    </tr>\n",
              "    <tr>\n",
              "      <th>1</th>\n",
              "      <td>Coloring book moana</td>\n",
              "      <td>ART_AND_DESIGN</td>\n",
              "      <td>3.9</td>\n",
              "      <td>967</td>\n",
              "      <td>14M</td>\n",
              "      <td>500,000+</td>\n",
              "      <td>Free</td>\n",
              "      <td>0</td>\n",
              "      <td>Everyone</td>\n",
              "      <td>Art &amp; Design;Pretend Play</td>\n",
              "      <td>January 15, 2018</td>\n",
              "      <td>2.0.0</td>\n",
              "      <td>4.0.3 and up</td>\n",
              "    </tr>\n",
              "    <tr>\n",
              "      <th>2</th>\n",
              "      <td>U Launcher Lite – FREE Live Cool Themes, Hide ...</td>\n",
              "      <td>ART_AND_DESIGN</td>\n",
              "      <td>4.7</td>\n",
              "      <td>87510</td>\n",
              "      <td>8.7M</td>\n",
              "      <td>5,000,000+</td>\n",
              "      <td>Free</td>\n",
              "      <td>0</td>\n",
              "      <td>Everyone</td>\n",
              "      <td>Art &amp; Design</td>\n",
              "      <td>August 1, 2018</td>\n",
              "      <td>1.2.4</td>\n",
              "      <td>4.0.3 and up</td>\n",
              "    </tr>\n",
              "    <tr>\n",
              "      <th>3</th>\n",
              "      <td>Sketch - Draw &amp; Paint</td>\n",
              "      <td>ART_AND_DESIGN</td>\n",
              "      <td>4.5</td>\n",
              "      <td>215644</td>\n",
              "      <td>25M</td>\n",
              "      <td>50,000,000+</td>\n",
              "      <td>Free</td>\n",
              "      <td>0</td>\n",
              "      <td>Teen</td>\n",
              "      <td>Art &amp; Design</td>\n",
              "      <td>June 8, 2018</td>\n",
              "      <td>Varies with device</td>\n",
              "      <td>4.2 and up</td>\n",
              "    </tr>\n",
              "    <tr>\n",
              "      <th>4</th>\n",
              "      <td>Pixel Draw - Number Art Coloring Book</td>\n",
              "      <td>ART_AND_DESIGN</td>\n",
              "      <td>4.3</td>\n",
              "      <td>967</td>\n",
              "      <td>2.8M</td>\n",
              "      <td>100,000+</td>\n",
              "      <td>Free</td>\n",
              "      <td>0</td>\n",
              "      <td>Everyone</td>\n",
              "      <td>Art &amp; Design;Creativity</td>\n",
              "      <td>June 20, 2018</td>\n",
              "      <td>1.1</td>\n",
              "      <td>4.4 and up</td>\n",
              "    </tr>\n",
              "  </tbody>\n",
              "</table>\n",
              "</div>\n",
              "      <button class=\"colab-df-convert\" onclick=\"convertToInteractive('df-6f9f0b4c-ae6b-485f-a060-78c6ccea4425')\"\n",
              "              title=\"Convert this dataframe to an interactive table.\"\n",
              "              style=\"display:none;\">\n",
              "        \n",
              "  <svg xmlns=\"http://www.w3.org/2000/svg\" height=\"24px\"viewBox=\"0 0 24 24\"\n",
              "       width=\"24px\">\n",
              "    <path d=\"M0 0h24v24H0V0z\" fill=\"none\"/>\n",
              "    <path d=\"M18.56 5.44l.94 2.06.94-2.06 2.06-.94-2.06-.94-.94-2.06-.94 2.06-2.06.94zm-11 1L8.5 8.5l.94-2.06 2.06-.94-2.06-.94L8.5 2.5l-.94 2.06-2.06.94zm10 10l.94 2.06.94-2.06 2.06-.94-2.06-.94-.94-2.06-.94 2.06-2.06.94z\"/><path d=\"M17.41 7.96l-1.37-1.37c-.4-.4-.92-.59-1.43-.59-.52 0-1.04.2-1.43.59L10.3 9.45l-7.72 7.72c-.78.78-.78 2.05 0 2.83L4 21.41c.39.39.9.59 1.41.59.51 0 1.02-.2 1.41-.59l7.78-7.78 2.81-2.81c.8-.78.8-2.07 0-2.86zM5.41 20L4 18.59l7.72-7.72 1.47 1.35L5.41 20z\"/>\n",
              "  </svg>\n",
              "      </button>\n",
              "      \n",
              "  <style>\n",
              "    .colab-df-container {\n",
              "      display:flex;\n",
              "      flex-wrap:wrap;\n",
              "      gap: 12px;\n",
              "    }\n",
              "\n",
              "    .colab-df-convert {\n",
              "      background-color: #E8F0FE;\n",
              "      border: none;\n",
              "      border-radius: 50%;\n",
              "      cursor: pointer;\n",
              "      display: none;\n",
              "      fill: #1967D2;\n",
              "      height: 32px;\n",
              "      padding: 0 0 0 0;\n",
              "      width: 32px;\n",
              "    }\n",
              "\n",
              "    .colab-df-convert:hover {\n",
              "      background-color: #E2EBFA;\n",
              "      box-shadow: 0px 1px 2px rgba(60, 64, 67, 0.3), 0px 1px 3px 1px rgba(60, 64, 67, 0.15);\n",
              "      fill: #174EA6;\n",
              "    }\n",
              "\n",
              "    [theme=dark] .colab-df-convert {\n",
              "      background-color: #3B4455;\n",
              "      fill: #D2E3FC;\n",
              "    }\n",
              "\n",
              "    [theme=dark] .colab-df-convert:hover {\n",
              "      background-color: #434B5C;\n",
              "      box-shadow: 0px 1px 3px 1px rgba(0, 0, 0, 0.15);\n",
              "      filter: drop-shadow(0px 1px 2px rgba(0, 0, 0, 0.3));\n",
              "      fill: #FFFFFF;\n",
              "    }\n",
              "  </style>\n",
              "\n",
              "      <script>\n",
              "        const buttonEl =\n",
              "          document.querySelector('#df-6f9f0b4c-ae6b-485f-a060-78c6ccea4425 button.colab-df-convert');\n",
              "        buttonEl.style.display =\n",
              "          google.colab.kernel.accessAllowed ? 'block' : 'none';\n",
              "\n",
              "        async function convertToInteractive(key) {\n",
              "          const element = document.querySelector('#df-6f9f0b4c-ae6b-485f-a060-78c6ccea4425');\n",
              "          const dataTable =\n",
              "            await google.colab.kernel.invokeFunction('convertToInteractive',\n",
              "                                                     [key], {});\n",
              "          if (!dataTable) return;\n",
              "\n",
              "          const docLinkHtml = 'Like what you see? Visit the ' +\n",
              "            '<a target=\"_blank\" href=https://colab.research.google.com/notebooks/data_table.ipynb>data table notebook</a>'\n",
              "            + ' to learn more about interactive tables.';\n",
              "          element.innerHTML = '';\n",
              "          dataTable['output_type'] = 'display_data';\n",
              "          await google.colab.output.renderOutput(dataTable, element);\n",
              "          const docLink = document.createElement('div');\n",
              "          docLink.innerHTML = docLinkHtml;\n",
              "          element.appendChild(docLink);\n",
              "        }\n",
              "      </script>\n",
              "    </div>\n",
              "  </div>\n",
              "  "
            ]
          },
          "metadata": {},
          "execution_count": 7
        }
      ],
      "source": [
        "data.head()"
      ]
    },
    {
      "cell_type": "code",
      "source": [],
      "metadata": {
        "id": "d55o23HganQv"
      },
      "execution_count": null,
      "outputs": []
    },
    {
      "cell_type": "markdown",
      "source": [
        "# Cleaning Data"
      ],
      "metadata": {
        "id": "2xE_SWxnUV5Z"
      }
    },
    {
      "cell_type": "markdown",
      "metadata": {
        "id": "S0zR3QlXRFYH"
      },
      "source": [
        "first look on the data"
      ]
    },
    {
      "cell_type": "code",
      "execution_count": null,
      "metadata": {
        "id": "yPfFcc5tRNIi",
        "colab": {
          "base_uri": "https://localhost:8080/"
        },
        "outputId": "de73c172-7a04-47a1-df2d-c316cf758552"
      },
      "outputs": [
        {
          "output_type": "stream",
          "name": "stdout",
          "text": [
            "<class 'pandas.core.frame.DataFrame'>\n",
            "RangeIndex: 10841 entries, 0 to 10840\n",
            "Data columns (total 13 columns):\n",
            " #   Column          Non-Null Count  Dtype  \n",
            "---  ------          --------------  -----  \n",
            " 0   App             10841 non-null  object \n",
            " 1   Category        10841 non-null  object \n",
            " 2   Rating          9367 non-null   float64\n",
            " 3   Reviews         10841 non-null  object \n",
            " 4   Size            10841 non-null  object \n",
            " 5   Installs        10841 non-null  object \n",
            " 6   Type            10840 non-null  object \n",
            " 7   Price           10841 non-null  object \n",
            " 8   Content Rating  10840 non-null  object \n",
            " 9   Genres          10841 non-null  object \n",
            " 10  Last Updated    10841 non-null  object \n",
            " 11  Current Ver     10833 non-null  object \n",
            " 12  Android Ver     10838 non-null  object \n",
            "dtypes: float64(1), object(12)\n",
            "memory usage: 1.1+ MB\n"
          ]
        }
      ],
      "source": [
        "data.info()"
      ]
    },
    {
      "cell_type": "markdown",
      "source": [
        "The first thing is to clean the data in order to avoid distortions in the analysis of the observations."
      ],
      "metadata": {
        "id": "tqwlhJkLtfuw"
      }
    },
    {
      "cell_type": "markdown",
      "source": [
        "Drop duplicate values and null values."
      ],
      "metadata": {
        "id": "HSsJpvUdWGHj"
      }
    },
    {
      "cell_type": "code",
      "source": [
        "data = data.drop_duplicates()\n",
        "data = data.dropna()"
      ],
      "metadata": {
        "id": "tagGmVv_UeM1"
      },
      "execution_count": null,
      "outputs": []
    },
    {
      "cell_type": "markdown",
      "source": [
        "Updated information"
      ],
      "metadata": {
        "id": "xMriAv94RBOD"
      }
    },
    {
      "cell_type": "code",
      "source": [
        "data.info()"
      ],
      "metadata": {
        "id": "bYE1BYqWWbrs",
        "colab": {
          "base_uri": "https://localhost:8080/"
        },
        "outputId": "3a865498-08b9-4085-9c4f-db542f75be49"
      },
      "execution_count": null,
      "outputs": [
        {
          "output_type": "stream",
          "name": "stdout",
          "text": [
            "<class 'pandas.core.frame.DataFrame'>\n",
            "Int64Index: 8886 entries, 0 to 10840\n",
            "Data columns (total 13 columns):\n",
            " #   Column          Non-Null Count  Dtype  \n",
            "---  ------          --------------  -----  \n",
            " 0   App             8886 non-null   object \n",
            " 1   Category        8886 non-null   object \n",
            " 2   Rating          8886 non-null   float64\n",
            " 3   Reviews         8886 non-null   object \n",
            " 4   Size            8886 non-null   object \n",
            " 5   Installs        8886 non-null   object \n",
            " 6   Type            8886 non-null   object \n",
            " 7   Price           8886 non-null   object \n",
            " 8   Content Rating  8886 non-null   object \n",
            " 9   Genres          8886 non-null   object \n",
            " 10  Last Updated    8886 non-null   object \n",
            " 11  Current Ver     8886 non-null   object \n",
            " 12  Android Ver     8886 non-null   object \n",
            "dtypes: float64(1), object(12)\n",
            "memory usage: 971.9+ KB\n"
          ]
        }
      ]
    },
    {
      "cell_type": "markdown",
      "source": [
        "We have a large enough number of data so we can move on."
      ],
      "metadata": {
        "id": "tY4HtjW9RRnF"
      }
    },
    {
      "cell_type": "markdown",
      "metadata": {
        "id": "XPwx6WjnOsmo"
      },
      "source": [
        "# Exploratory Data Analysis"
      ]
    },
    {
      "cell_type": "markdown",
      "source": [
        "In this section I explore the dataset.\n",
        "The following two objectives will guide my exploration of this dataset:\n",
        "\n",
        "Understand the individual variables in the dataset, and how the variables in this dataset relate to the application rating."
      ],
      "metadata": {
        "id": "VGq78OWVv0lu"
      }
    },
    {
      "cell_type": "markdown",
      "source": [
        "Get list of numerical variables"
      ],
      "metadata": {
        "id": "WCw_j89zu1Tv"
      }
    },
    {
      "cell_type": "code",
      "execution_count": null,
      "metadata": {
        "id": "qSKezBb_Rl5x",
        "colab": {
          "base_uri": "https://localhost:8080/"
        },
        "outputId": "bab72d7b-a609-4217-c201-2a694f61288c"
      },
      "outputs": [
        {
          "output_type": "stream",
          "name": "stdout",
          "text": [
            "['Rating']\n"
          ]
        }
      ],
      "source": [
        "print(list(data.select_dtypes('number').columns))"
      ]
    },
    {
      "cell_type": "markdown",
      "source": [
        "Get list of categorical variables"
      ],
      "metadata": {
        "id": "jtyiGGlyu8L2"
      }
    },
    {
      "cell_type": "code",
      "execution_count": null,
      "metadata": {
        "id": "r8svztyKUQl9",
        "colab": {
          "base_uri": "https://localhost:8080/"
        },
        "outputId": "992bbcd2-d810-45af-d144-3bf1d889d438"
      },
      "outputs": [
        {
          "output_type": "stream",
          "name": "stdout",
          "text": [
            "['App', 'Category', 'Reviews', 'Size', 'Installs', 'Type', 'Price', 'Content Rating', 'Genres', 'Last Updated', 'Current Ver', 'Android Ver']\n"
          ]
        }
      ],
      "source": [
        "print(list(data.select_dtypes('object').columns))"
      ]
    },
    {
      "cell_type": "markdown",
      "metadata": {
        "id": "b14b0HRYdS3U"
      },
      "source": [
        "Given the large number of categories and the wide distribution of many of the categories I will have to choose only some of them. It can be seen that the 'App' category can be waived, because the app's name doesn't affect on the rank, and I guess that applies to the version and size as well. We can also refer to categories 'Price' and 'Type' as equivalent for our needs. For the same reason I will refer only to the category 'Category' insted of refering both 'Category' and 'Genres'."
      ]
    },
    {
      "cell_type": "code",
      "execution_count": null,
      "metadata": {
        "id": "ClOJfLnLQ9xX",
        "colab": {
          "base_uri": "https://localhost:8080/"
        },
        "outputId": "15af3bc6-9f90-4f13-b740-760f0378721f"
      },
      "outputs": [
        {
          "output_type": "execute_result",
          "data": {
            "text/plain": [
              "6"
            ]
          },
          "metadata": {},
          "execution_count": 13
        }
      ],
      "source": [
        "categorical = ['Category', 'Reviews', 'Installs', 'Type', 'Content Rating', 'Last Updated']\n",
        "len(categorical)"
      ]
    },
    {
      "cell_type": "markdown",
      "source": [
        "It can be seen that all the variables, except one, are categorical - nominal or ordinal.\n",
        "Therefore I can only use certain types of visualizations such as bar plots, box plots and scatter plots."
      ],
      "metadata": {
        "id": "2_bOKUj-zS4s"
      }
    },
    {
      "cell_type": "markdown",
      "metadata": {
        "id": "3YPJQEEKUnhL"
      },
      "source": [
        "Our goal is understand how the variables in this dataset relate to the apps rank."
      ]
    },
    {
      "cell_type": "markdown",
      "source": [
        "now let's look at the rating info"
      ],
      "metadata": {
        "id": "UD1UNbydyLiY"
      }
    },
    {
      "cell_type": "code",
      "source": [
        "data['Rating'].describe()"
      ],
      "metadata": {
        "id": "r3HtEKUSvnuL",
        "colab": {
          "base_uri": "https://localhost:8080/"
        },
        "outputId": "ae667e5f-1980-4e41-e93f-1a14702a9805"
      },
      "execution_count": null,
      "outputs": [
        {
          "output_type": "execute_result",
          "data": {
            "text/plain": [
              "count    8886.000000\n",
              "mean        4.187959\n",
              "std         0.522428\n",
              "min         1.000000\n",
              "25%         4.000000\n",
              "50%         4.300000\n",
              "75%         4.500000\n",
              "max         5.000000\n",
              "Name: Rating, dtype: float64"
            ]
          },
          "metadata": {},
          "execution_count": 14
        }
      ]
    },
    {
      "cell_type": "code",
      "source": [
        "mean_rate = data['Rating'].mean()\n",
        "std_rate = data['Rating'].std()/np.sqrt(data.shape[0])\n",
        "stats.norm.interval(0.95, loc=mean_rate, scale=std_rate)"
      ],
      "metadata": {
        "id": "Fhdwxx9T2J5C",
        "colab": {
          "base_uri": "https://localhost:8080/"
        },
        "outputId": "b01a66a4-c357-462d-9647-c035dbd7178a"
      },
      "execution_count": null,
      "outputs": [
        {
          "output_type": "execute_result",
          "data": {
            "text/plain": [
              "(4.1770962979503, 4.19882087513095)"
            ]
          },
          "metadata": {},
          "execution_count": 15
        }
      ]
    },
    {
      "cell_type": "code",
      "source": [
        "sns.distplot(data['Rating'])"
      ],
      "metadata": {
        "colab": {
          "base_uri": "https://localhost:8080/",
          "height": 686
        },
        "id": "soVQhD4jV1uN",
        "outputId": "5e5501ff-a6a6-4887-82c4-2b3e94c05688"
      },
      "execution_count": null,
      "outputs": [
        {
          "output_type": "execute_result",
          "data": {
            "text/plain": [
              "<Axes: xlabel='Rating', ylabel='Density'>"
            ]
          },
          "metadata": {},
          "execution_count": 30
        },
        {
          "output_type": "display_data",
          "data": {
            "text/plain": [
              "<Figure size 1200x750 with 1 Axes>"
            ],
            "image/png": "[encoded data removed]"
          },
          "metadata": {}
        }
      ]
    },
    {
      "cell_type": "markdown",
      "source": [
        "this one for version 3.9.7"
      ],
      "metadata": {
        "id": "CXp1JOuiYLMM"
      }
    },
    {
      "cell_type": "code",
      "execution_count": null,
      "metadata": {
        "id": "OoZQdOlwnx5f",
        "colab": {
          "base_uri": "https://localhost:8080/",
          "height": 638
        },
        "outputId": "c20297f8-9091-4728-fde9-012a499bc266"
      },
      "outputs": [
        {
          "output_type": "display_data",
          "data": {
            "text/plain": [
              "<Figure size 1200x750 with 1 Axes>"
            ],
            "image/png": "[encoded data removed]"
          },
          "metadata": {}
        }
      ],
      "source": [
        "ax = sns.countplot(data['Rating'])\n",
        "for label in ax.get_xticklabels():\n",
        "        label.set_rotation(90)\n",
        "plt.show()"
      ]
    },
    {
      "cell_type": "markdown",
      "source": [
        "We can see that the distribution of the rating is around four - a relatively high rating. This will make it difficult for us to see clear trends."
      ],
      "metadata": {
        "id": "S3KSFBY1tSmy"
      }
    },
    {
      "cell_type": "markdown",
      "source": [
        "We will now look at the other distributions of the categories we have selected."
      ],
      "metadata": {
        "id": "QbPRcRmRuk1e"
      }
    },
    {
      "cell_type": "code",
      "execution_count": null,
      "metadata": {
        "id": "_gjtgK4jPTkT",
        "colab": {
          "base_uri": "https://localhost:8080/",
          "height": 1000
        },
        "outputId": "4fa8059a-f107-403d-e1f6-146b80acc4a0"
      },
      "outputs": [
        {
          "output_type": "error",
          "ename": "ValueError",
          "evalue": "ignored",
          "traceback": [
            "\u001b[0;31m---------------------------------------------------------------------------\u001b[0m",
            "\u001b[0;31mValueError\u001b[0m                                Traceback (most recent call last)",
            "\u001b[0;32m<ipython-input-32-81f785e07d99>\u001b[0m in \u001b[0;36m<cell line: 3>\u001b[0;34m()\u001b[0m\n\u001b[1;32m      2\u001b[0m \u001b[0mfig\u001b[0m\u001b[0;34m,\u001b[0m \u001b[0max\u001b[0m \u001b[0;34m=\u001b[0m \u001b[0mplt\u001b[0m\u001b[0;34m.\u001b[0m\u001b[0msubplots\u001b[0m\u001b[0;34m(\u001b[0m\u001b[0;36m2\u001b[0m\u001b[0;34m,\u001b[0m \u001b[0;36m3\u001b[0m\u001b[0;34m,\u001b[0m \u001b[0mfigsize\u001b[0m\u001b[0;34m=\u001b[0m\u001b[0;34m(\u001b[0m\u001b[0;36m30\u001b[0m\u001b[0;34m,\u001b[0m \u001b[0;36m15\u001b[0m\u001b[0;34m)\u001b[0m\u001b[0;34m)\u001b[0m\u001b[0;34m\u001b[0m\u001b[0;34m\u001b[0m\u001b[0m\n\u001b[1;32m      3\u001b[0m \u001b[0;32mfor\u001b[0m \u001b[0mvariable\u001b[0m\u001b[0;34m,\u001b[0m \u001b[0msubplot\u001b[0m \u001b[0;32min\u001b[0m \u001b[0mzip\u001b[0m\u001b[0;34m(\u001b[0m\u001b[0mcategorical\u001b[0m\u001b[0;34m,\u001b[0m \u001b[0max\u001b[0m\u001b[0;34m.\u001b[0m\u001b[0mflatten\u001b[0m\u001b[0;34m(\u001b[0m\u001b[0;34m)\u001b[0m\u001b[0;34m)\u001b[0m\u001b[0;34m:\u001b[0m\u001b[0;34m\u001b[0m\u001b[0;34m\u001b[0m\u001b[0m\n\u001b[0;32m----> 4\u001b[0;31m     \u001b[0msns\u001b[0m\u001b[0;34m.\u001b[0m\u001b[0mcountplot\u001b[0m\u001b[0;34m(\u001b[0m\u001b[0mdata\u001b[0m\u001b[0;34m[\u001b[0m\u001b[0mvariable\u001b[0m\u001b[0;34m]\u001b[0m\u001b[0;34m,\u001b[0m \u001b[0max\u001b[0m\u001b[0;34m=\u001b[0m\u001b[0msubplot\u001b[0m\u001b[0;34m)\u001b[0m\u001b[0;34m\u001b[0m\u001b[0;34m\u001b[0m\u001b[0m\n\u001b[0m\u001b[1;32m      5\u001b[0m     \u001b[0;32mfor\u001b[0m \u001b[0mlabel\u001b[0m \u001b[0;32min\u001b[0m \u001b[0msubplot\u001b[0m\u001b[0;34m.\u001b[0m\u001b[0mget_xticklabels\u001b[0m\u001b[0;34m(\u001b[0m\u001b[0;34m)\u001b[0m\u001b[0;34m:\u001b[0m\u001b[0;34m\u001b[0m\u001b[0;34m\u001b[0m\u001b[0m\n\u001b[1;32m      6\u001b[0m         \u001b[0mlabel\u001b[0m\u001b[0;34m.\u001b[0m\u001b[0mset_rotation\u001b[0m\u001b[0;34m(\u001b[0m\u001b[0;36m90\u001b[0m\u001b[0;34m)\u001b[0m\u001b[0;34m\u001b[0m\u001b[0;34m\u001b[0m\u001b[0m\n",
            "\u001b[0;32m/usr/local/lib/python3.10/dist-packages/seaborn/categorical.py\u001b[0m in \u001b[0;36mcountplot\u001b[0;34m(data, x, y, hue, order, hue_order, orient, color, palette, saturation, width, dodge, ax, **kwargs)\u001b[0m\n\u001b[1;32m   2941\u001b[0m         \u001b[0;32mraise\u001b[0m \u001b[0mValueError\u001b[0m\u001b[0;34m(\u001b[0m\u001b[0;34m\"Cannot pass values for both `x` and `y`\"\u001b[0m\u001b[0;34m)\u001b[0m\u001b[0;34m\u001b[0m\u001b[0;34m\u001b[0m\u001b[0m\n\u001b[1;32m   2942\u001b[0m \u001b[0;34m\u001b[0m\u001b[0m\n\u001b[0;32m-> 2943\u001b[0;31m     plotter = _CountPlotter(\n\u001b[0m\u001b[1;32m   2944\u001b[0m         \u001b[0mx\u001b[0m\u001b[0;34m,\u001b[0m \u001b[0my\u001b[0m\u001b[0;34m,\u001b[0m \u001b[0mhue\u001b[0m\u001b[0;34m,\u001b[0m \u001b[0mdata\u001b[0m\u001b[0;34m,\u001b[0m \u001b[0morder\u001b[0m\u001b[0;34m,\u001b[0m \u001b[0mhue_order\u001b[0m\u001b[0;34m,\u001b[0m\u001b[0;34m\u001b[0m\u001b[0;34m\u001b[0m\u001b[0m\n\u001b[1;32m   2945\u001b[0m         \u001b[0mestimator\u001b[0m\u001b[0;34m,\u001b[0m \u001b[0merrorbar\u001b[0m\u001b[0;34m,\u001b[0m \u001b[0mn_boot\u001b[0m\u001b[0;34m,\u001b[0m \u001b[0munits\u001b[0m\u001b[0;34m,\u001b[0m \u001b[0mseed\u001b[0m\u001b[0;34m,\u001b[0m\u001b[0;34m\u001b[0m\u001b[0;34m\u001b[0m\u001b[0m\n",
            "\u001b[0;32m/usr/local/lib/python3.10/dist-packages/seaborn/categorical.py\u001b[0m in \u001b[0;36m__init__\u001b[0;34m(self, x, y, hue, data, order, hue_order, estimator, errorbar, n_boot, units, seed, orient, color, palette, saturation, width, errcolor, errwidth, capsize, dodge)\u001b[0m\n\u001b[1;32m   1528\u001b[0m                  errcolor, errwidth, capsize, dodge):\n\u001b[1;32m   1529\u001b[0m         \u001b[0;34m\"\"\"Initialize the plotter.\"\"\"\u001b[0m\u001b[0;34m\u001b[0m\u001b[0;34m\u001b[0m\u001b[0m\n\u001b[0;32m-> 1530\u001b[0;31m         self.establish_variables(x, y, hue, data, orient,\n\u001b[0m\u001b[1;32m   1531\u001b[0m                                  order, hue_order, units)\n\u001b[1;32m   1532\u001b[0m         \u001b[0mself\u001b[0m\u001b[0;34m.\u001b[0m\u001b[0mestablish_colors\u001b[0m\u001b[0;34m(\u001b[0m\u001b[0mcolor\u001b[0m\u001b[0;34m,\u001b[0m \u001b[0mpalette\u001b[0m\u001b[0;34m,\u001b[0m \u001b[0msaturation\u001b[0m\u001b[0;34m)\u001b[0m\u001b[0;34m\u001b[0m\u001b[0;34m\u001b[0m\u001b[0m\n",
            "\u001b[0;32m/usr/local/lib/python3.10/dist-packages/seaborn/categorical.py\u001b[0m in \u001b[0;36mestablish_variables\u001b[0;34m(self, x, y, hue, data, orient, order, hue_order, units)\u001b[0m\n\u001b[1;32m    514\u001b[0m \u001b[0;34m\u001b[0m\u001b[0m\n\u001b[1;32m    515\u001b[0m                 \u001b[0;31m# Convert to a list of arrays, the common representation\u001b[0m\u001b[0;34m\u001b[0m\u001b[0;34m\u001b[0m\u001b[0m\n\u001b[0;32m--> 516\u001b[0;31m                 \u001b[0mplot_data\u001b[0m \u001b[0;34m=\u001b[0m \u001b[0;34m[\u001b[0m\u001b[0mnp\u001b[0m\u001b[0;34m.\u001b[0m\u001b[0masarray\u001b[0m\u001b[0;34m(\u001b[0m\u001b[0md\u001b[0m\u001b[0;34m,\u001b[0m \u001b[0mfloat\u001b[0m\u001b[0;34m)\u001b[0m \u001b[0;32mfor\u001b[0m \u001b[0md\u001b[0m \u001b[0;32min\u001b[0m \u001b[0mplot_data\u001b[0m\u001b[0;34m]\u001b[0m\u001b[0;34m\u001b[0m\u001b[0;34m\u001b[0m\u001b[0m\n\u001b[0m\u001b[1;32m    517\u001b[0m \u001b[0;34m\u001b[0m\u001b[0m\n\u001b[1;32m    518\u001b[0m                 \u001b[0;31m# The group names will just be numeric indices\u001b[0m\u001b[0;34m\u001b[0m\u001b[0;34m\u001b[0m\u001b[0m\n",
            "\u001b[0;32m/usr/local/lib/python3.10/dist-packages/seaborn/categorical.py\u001b[0m in \u001b[0;36m<listcomp>\u001b[0;34m(.0)\u001b[0m\n\u001b[1;32m    514\u001b[0m \u001b[0;34m\u001b[0m\u001b[0m\n\u001b[1;32m    515\u001b[0m                 \u001b[0;31m# Convert to a list of arrays, the common representation\u001b[0m\u001b[0;34m\u001b[0m\u001b[0;34m\u001b[0m\u001b[0m\n\u001b[0;32m--> 516\u001b[0;31m                 \u001b[0mplot_data\u001b[0m \u001b[0;34m=\u001b[0m \u001b[0;34m[\u001b[0m\u001b[0mnp\u001b[0m\u001b[0;34m.\u001b[0m\u001b[0masarray\u001b[0m\u001b[0;34m(\u001b[0m\u001b[0md\u001b[0m\u001b[0;34m,\u001b[0m \u001b[0mfloat\u001b[0m\u001b[0;34m)\u001b[0m \u001b[0;32mfor\u001b[0m \u001b[0md\u001b[0m \u001b[0;32min\u001b[0m \u001b[0mplot_data\u001b[0m\u001b[0;34m]\u001b[0m\u001b[0;34m\u001b[0m\u001b[0;34m\u001b[0m\u001b[0m\n\u001b[0m\u001b[1;32m    517\u001b[0m \u001b[0;34m\u001b[0m\u001b[0m\n\u001b[1;32m    518\u001b[0m                 \u001b[0;31m# The group names will just be numeric indices\u001b[0m\u001b[0;34m\u001b[0m\u001b[0;34m\u001b[0m\u001b[0m\n",
            "\u001b[0;32m/usr/local/lib/python3.10/dist-packages/pandas/core/series.py\u001b[0m in \u001b[0;36m__array__\u001b[0;34m(self, dtype)\u001b[0m\n\u001b[1;32m    891\u001b[0m               dtype='datetime64[ns]')\n\u001b[1;32m    892\u001b[0m         \"\"\"\n\u001b[0;32m--> 893\u001b[0;31m         \u001b[0;32mreturn\u001b[0m \u001b[0mnp\u001b[0m\u001b[0;34m.\u001b[0m\u001b[0masarray\u001b[0m\u001b[0;34m(\u001b[0m\u001b[0mself\u001b[0m\u001b[0;34m.\u001b[0m\u001b[0m_values\u001b[0m\u001b[0;34m,\u001b[0m \u001b[0mdtype\u001b[0m\u001b[0;34m)\u001b[0m\u001b[0;34m\u001b[0m\u001b[0;34m\u001b[0m\u001b[0m\n\u001b[0m\u001b[1;32m    894\u001b[0m \u001b[0;34m\u001b[0m\u001b[0m\n\u001b[1;32m    895\u001b[0m     \u001b[0;31m# ----------------------------------------------------------------------\u001b[0m\u001b[0;34m\u001b[0m\u001b[0;34m\u001b[0m\u001b[0m\n",
            "\u001b[0;31mValueError\u001b[0m: could not convert string to float: 'ART_AND_DESIGN'"
          ]
        },
        {
          "output_type": "display_data",
          "data": {
            "text/plain": [
              "<Figure size 3000x1500 with 6 Axes>"
            ],
            "image/png": "[encoded data removed]"
          },
          "metadata": {}
        }
      ],
      "source": [
        "# Plot categorical variables using matplotlib + seaborn\n",
        "fig, ax = plt.subplots(2, 3, figsize=(30, 15))\n",
        "for variable, subplot in zip(categorical, ax.flatten()):\n",
        "    sns.countplot(data[variable], ax=subplot)\n",
        "    for label in subplot.get_xticklabels():\n",
        "        label.set_rotation(90)\n",
        "\n",
        "#ax[-1,-1].axis('off')\n",
        "\n",
        "fig.tight_layout()\n",
        "plt.show()"
      ]
    },
    {
      "cell_type": "markdown",
      "source": [
        "It can be seen that the data are very unclear. Therefore we will need to change and adjust the values."
      ],
      "metadata": {
        "id": "ntP4QFz5Zp3Y"
      }
    },
    {
      "cell_type": "markdown",
      "source": [
        "Let's start with the 'Reviwes' category."
      ],
      "metadata": {
        "id": "QBrQvIieZz1o"
      }
    },
    {
      "cell_type": "code",
      "source": [
        "data['Reviews'].value_counts()"
      ],
      "metadata": {
        "id": "3sylq0zzhD36"
      },
      "execution_count": null,
      "outputs": []
    },
    {
      "cell_type": "markdown",
      "source": [
        "We can see that there are very many types of entries in this category. We must therefore divide the values into a limited number of classes, so that a much clearer picture appears."
      ],
      "metadata": {
        "id": "_86rVOmcah0R"
      }
    },
    {
      "cell_type": "markdown",
      "source": [
        "Because these are numeric values we can select classes according to the amount of reviwes."
      ],
      "metadata": {
        "id": "Uryo2X5zbNgb"
      }
    },
    {
      "cell_type": "code",
      "source": [
        "# Sort each value by classes in selected scales\n",
        "def reviewsLevel(num):\n",
        "    num = int(num)\n",
        "    if num < 100:\n",
        "      return 'less than 100'\n",
        "    if num < 1000:\n",
        "      return '100-1K'\n",
        "    if num > 1000 and num < 10000:\n",
        "      return '1K-10K'\n",
        "    if num > 10000 and num < 100000:\n",
        "      return '10K-100K'\n",
        "    return 'over 100K'"
      ],
      "metadata": {
        "id": "2VGw6ofEjKpH"
      },
      "execution_count": null,
      "outputs": []
    },
    {
      "cell_type": "markdown",
      "source": [
        "Create a new row named 'reviews level' according to this classification."
      ],
      "metadata": {
        "id": "ViJJz8zsHnnJ"
      }
    },
    {
      "cell_type": "code",
      "source": [
        "reviews = []\n",
        "for r in data['Reviews']:\n",
        "  reviews.append(reviewsLevel(r))\n",
        "reviews = np.array(reviews)\n",
        "data['Reviews Level'] = pd.Series(data=reviews, index= data.index)\n",
        "\n",
        "data['Reviews Level'].head()"
      ],
      "metadata": {
        "id": "7LT5l1MWlbCJ"
      },
      "execution_count": null,
      "outputs": []
    },
    {
      "cell_type": "code",
      "source": [
        "data['Reviews Level'].value_counts()"
      ],
      "metadata": {
        "id": "cpfpGXtacOKc"
      },
      "execution_count": null,
      "outputs": []
    },
    {
      "cell_type": "markdown",
      "source": [
        "We got a limited number of classes and in each class a large enough number of values."
      ],
      "metadata": {
        "id": "z_4-LNH8csk0"
      }
    },
    {
      "cell_type": "markdown",
      "source": [
        "We will move on to the following variable - 'Installs'.\n",
        "\n",
        "We encountered exactly the same problem, so here too we will use the same transformation technique."
      ],
      "metadata": {
        "id": "4UuSX9zQdxVf"
      }
    },
    {
      "cell_type": "code",
      "source": [
        "data['Installs'].value_counts()"
      ],
      "metadata": {
        "id": "MXXTpRaaNIbx"
      },
      "execution_count": null,
      "outputs": []
    },
    {
      "cell_type": "markdown",
      "source": [
        "We will use the numerical nature of the variables to divide into classes."
      ],
      "metadata": {
        "id": "qB9EOrvseCA-"
      }
    },
    {
      "cell_type": "code",
      "source": [
        "# Sort each value by classes in selected scales\n",
        "def installLevel(num):\n",
        "  if num == '0':\n",
        "    num = 0\n",
        "  else:\n",
        "      num = int(num[:-1].replace(',','')) # get the numeric part of the value\n",
        "  if num < 100000:\n",
        "    return 'less than 100K'\n",
        "    #return '10K-100K'\n",
        "  if num < 1000000:\n",
        "    return '100K-1M'\n",
        "  if num < 10000000:\n",
        "    return '1M-10M'\n",
        "  #if num < 100000000:\n",
        "   # return '10M-100M'\n",
        "  return 'over 10M'"
      ],
      "metadata": {
        "id": "-2v_vUG3axMB"
      },
      "execution_count": null,
      "outputs": []
    },
    {
      "cell_type": "markdown",
      "source": [
        "Create a new row named 'installs level' according to this classification."
      ],
      "metadata": {
        "id": "vO6IXzffI5xf"
      }
    },
    {
      "cell_type": "code",
      "source": [
        "installs = []\n",
        "for r in data['Installs']:\n",
        "  installs.append(installLevel(r))\n",
        "installs = np.array(installs)\n",
        "data['Installs Level'] = pd.Series(data=installs, index= data.index)\n",
        "\n",
        "data['Installs Level'].head()"
      ],
      "metadata": {
        "id": "VyCz4wfqdQYm"
      },
      "execution_count": null,
      "outputs": []
    },
    {
      "cell_type": "code",
      "source": [
        "data['Installs Level'].value_counts()"
      ],
      "metadata": {
        "id": "xe0ckk8qfBSF"
      },
      "execution_count": null,
      "outputs": []
    },
    {
      "cell_type": "markdown",
      "source": [
        "We got a limited number of classes and in each class a large enough number of values."
      ],
      "metadata": {
        "id": "c6qD0qUlPO5G"
      }
    },
    {
      "cell_type": "markdown",
      "source": [
        "We will move on to the next category - 'Last Update'."
      ],
      "metadata": {
        "id": "9XzwwuDAgfFs"
      }
    },
    {
      "cell_type": "code",
      "source": [
        "data['Last Updated'].value_counts()"
      ],
      "metadata": {
        "id": "CGHGKK75SUlU"
      },
      "execution_count": null,
      "outputs": []
    },
    {
      "cell_type": "markdown",
      "source": [
        "I decided that here I would sort the data by year of updating."
      ],
      "metadata": {
        "id": "I7YZXK8og595"
      }
    },
    {
      "cell_type": "markdown",
      "source": [
        "Create a new row named 'Updated Year' according to the classification I chose."
      ],
      "metadata": {
        "id": "OJTc5DKiKwk0"
      }
    },
    {
      "cell_type": "code",
      "source": [
        "years = []\n",
        "for y in data['Last Updated']:\n",
        "  years.append(int(y[-4:])) #get the updated year\n",
        "years = np.array(years)\n",
        "\n",
        "data['Updated Year'] = pd.Series(data=years, index= data.index)\n",
        "data['Updated Year'].head()"
      ],
      "metadata": {
        "id": "y08ffB3Io4Gz"
      },
      "execution_count": null,
      "outputs": []
    },
    {
      "cell_type": "code",
      "source": [
        "data['Updated Year'].value_counts()"
      ],
      "metadata": {
        "id": "lQ8lPljdg_bw"
      },
      "execution_count": null,
      "outputs": []
    },
    {
      "cell_type": "markdown",
      "source": [
        "There are only one rating value on 2010, so I will drop it."
      ],
      "metadata": {
        "id": "Ku81K4981ben"
      }
    },
    {
      "cell_type": "code",
      "source": [
        "data = data.drop(index = data[data['Updated Year'] == 2010].index[0])"
      ],
      "metadata": {
        "id": "kMdVcgk00k92"
      },
      "execution_count": null,
      "outputs": []
    },
    {
      "cell_type": "markdown",
      "source": [
        "For the purpose of the study, let's assume that the date of the last update indicates the period in which the application is in use and receives its rating."
      ],
      "metadata": {
        "id": "ZgT75vWaNjIi"
      }
    },
    {
      "cell_type": "markdown",
      "source": [
        "There are several overlapping values in 'Category Rating', we will combine them to get a clearer picture of the data distribution."
      ],
      "metadata": {
        "id": "TFBbSqqVmYvi"
      }
    },
    {
      "cell_type": "code",
      "source": [
        "data['Content Rating'].value_counts()"
      ],
      "metadata": {
        "id": "h_sca6CXgiOC"
      },
      "execution_count": null,
      "outputs": []
    },
    {
      "cell_type": "markdown",
      "source": [
        "It is possible to unite 'Adults 18+' together with 'Mature 17+' as well as 'Everyone 10+' together with 'Everyone' because the groups are, more or less, included in each other.\n",
        "\n",
        "It is not accurate, but for our goals it is sufficient, since we are interested in the age of the raters.\n",
        "We assume for that matter that the age of the raters matches the target audience of the application."
      ],
      "metadata": {
        "id": "t3NLYfgymmyb"
      }
    },
    {
      "cell_type": "code",
      "source": [
        "data['Content Rating'] = data['Content Rating'].map({'Everyone':'Everyone', 'Everyone 10+':'Everyone', 'Mature 17+':'Mature 17+', 'Adults only 18+':'Mature 17+', 'Teen':'Teen', 'Unrated':'Unrated'})"
      ],
      "metadata": {
        "id": "13OzTRtkf2az"
      },
      "execution_count": null,
      "outputs": []
    },
    {
      "cell_type": "markdown",
      "source": [
        "The value 'Unrated' are a single so I will drop it"
      ],
      "metadata": {
        "id": "y49jYdoEzgOx"
      }
    },
    {
      "cell_type": "code",
      "source": [
        "data = data.drop(index = data[data['Content Rating'] == 'Unrated'].index[0])"
      ],
      "metadata": {
        "id": "_WOL13dyvBfR"
      },
      "execution_count": null,
      "outputs": []
    },
    {
      "cell_type": "markdown",
      "source": [
        "The new values are:"
      ],
      "metadata": {
        "id": "pJgW1CT41FkV"
      }
    },
    {
      "cell_type": "code",
      "source": [
        "data['Content Rating'].value_counts()"
      ],
      "metadata": {
        "id": "Fna73_thooib"
      },
      "execution_count": null,
      "outputs": []
    },
    {
      "cell_type": "markdown",
      "source": [
        "Our new categories will be:"
      ],
      "metadata": {
        "id": "YAXvqRvdhhR6"
      }
    },
    {
      "cell_type": "code",
      "source": [
        "categorical = ['Category', 'Installs Level', 'Type', 'Content Rating', 'Reviews Level', 'Updated Year']\n",
        "len(categorical)"
      ],
      "metadata": {
        "id": "ZFxTmaneR7fX"
      },
      "execution_count": null,
      "outputs": []
    },
    {
      "cell_type": "markdown",
      "source": [
        "Now let's look at the new bar plot we received:"
      ],
      "metadata": {
        "id": "jhWXuG7TOGFn"
      }
    },
    {
      "cell_type": "code",
      "source": [
        "# Plot categorical variables using matplotlib + seaborn\n",
        "fig, ax = plt.subplots(2, 3, figsize=(30, 15))\n",
        "for variable, subplot in zip(categorical, ax.flatten()):\n",
        "    sns.countplot(data[variable], ax=subplot)\n",
        "    for label in subplot.get_xticklabels():\n",
        "        label.set_rotation(90)\n",
        "\n",
        "#ax[-1,-1].axis('off')\n",
        "\n",
        "fig.tight_layout()\n",
        "plt.show()"
      ],
      "metadata": {
        "id": "Xf-QyXm1hX6Q"
      },
      "execution_count": null,
      "outputs": []
    },
    {
      "cell_type": "markdown",
      "source": [
        "Now it looks much better."
      ],
      "metadata": {
        "id": "OhZDXtlXbnCn"
      }
    },
    {
      "cell_type": "code",
      "source": [
        "#categorical = ['Category', 'Reviews Level', 'Size', 'Installs', 'Type', 'Content Rating', 'Genres', 'Last Updated']"
      ],
      "metadata": {
        "id": "R-rbivt-xeEb"
      },
      "execution_count": null,
      "outputs": []
    },
    {
      "cell_type": "markdown",
      "source": [
        "# Box Plot"
      ],
      "metadata": {
        "id": "8GjZ06JQhJ6U"
      }
    },
    {
      "cell_type": "markdown",
      "source": [
        "We can use a box plot to visualize the relationship between the categorical variables in our dataset and the Rating of the application."
      ],
      "metadata": {
        "id": "MlOQvPpawRXp"
      }
    },
    {
      "cell_type": "code",
      "execution_count": null,
      "metadata": {
        "id": "NyvomLnGTw-7"
      },
      "outputs": [],
      "source": [
        "# Plot categorical variables using matplotlib + seaborn\n",
        "fig, ax = plt.subplots(2, 3, figsize=(30, 15))\n",
        "for variable, subplot in zip(categorical, ax.flatten()):\n",
        "    sns.boxplot(data[variable], data['Rating'], ax=subplot)\n",
        "    for label in subplot.get_xticklabels():\n",
        "        label.set_rotation(90)\n",
        "\n",
        "#ax[-1,-1].axis('off')\n",
        "\n",
        "fig.tight_layout()\n",
        "plt.show()"
      ]
    },
    {
      "cell_type": "markdown",
      "source": [
        "Let’s take a closer look at the Category variable. We see that there is definitely a different distribution for different categories, but the visualization is a bit difficult to decipher.\n",
        "Let’s sort our box plots by lowest rate category to highest one."
      ],
      "metadata": {
        "id": "hblGRa7zxGF4"
      }
    },
    {
      "cell_type": "code",
      "source": [
        "sorted_nb = data.groupby(['Category'])['Rating'].median().sort_values()\n",
        "print(sorted_nb)"
      ],
      "metadata": {
        "id": "-QvwM7XCZnLq"
      },
      "execution_count": null,
      "outputs": []
    },
    {
      "cell_type": "code",
      "source": [
        "sns.boxplot(x=data['Category'], y=data['Rating'], order=list(sorted_nb.index))\n",
        "plt.xticks(rotation=90)\n",
        "plt.show()"
      ],
      "metadata": {
        "id": "701SvZiEZ2WQ"
      },
      "execution_count": null,
      "outputs": []
    },
    {
      "cell_type": "markdown",
      "source": [
        "In all the categories we searched it can be seen that the change in the average rating is relatively minor. However, differences can still be seen.\n",
        "\n",
        "* There is a certain correlation between the year of last update and the rating, the later the year the rating increases.\n",
        "\n",
        "* There is a similar correlation between the number of reviews and the average rating, the higher the number of reviews the higher the rating.\n",
        "\n",
        "* On average, apps that cost money get a higher rating (of course the low number of these apps affects accuracy).\n",
        "\n",
        "* There is a certain correlation between the amount of installations and the height of the rating.\n",
        "\n",
        "* It can be seen that adults rank lower than teenagers, in average.\n",
        "Also, the fact that the 'Everyone' variable has an average almost identical to the 'Teen' variable can indicate that most of the people that rating the 'everyone' category are teenagers.\n",
        "\n",
        "* The categories that received the highest rating average are: 'HEALTH_AND_FITNESS', 'BOOKS_AND_REFERENCES' and 'EVENTS'.\n",
        "\n",
        "* The categories that received the lowest rating average: 'DATING', 'HOUSE_AND_HOME', 'LIFESTYLE' and 'MAPS_AND_NAVIGATION'.\n",
        "\n",
        "Note: Due to the wide dispersion between the medians of the various categories and the small difference between them, the app's category probably does not really have an effect on the level of rating it receives."
      ],
      "metadata": {
        "id": "2nDg8zhw2oJE"
      }
    },
    {
      "cell_type": "markdown",
      "source": [
        "# Hypothesis testing"
      ],
      "metadata": {
        "id": "l-nweL45a0An"
      }
    },
    {
      "cell_type": "markdown",
      "source": [
        "At this stage we will check if our hypotheses regarding the relationship between the type of application, the amount of installs and reviews, the year of its update and the user age with the level of rating it receives are correct.\n",
        "\n",
        "For each hypothesis we will state the null hypothesis and our hypothesis and test the correctness of our hypothesis using statistical tests.\n",
        "\n",
        "I decided not to measure category statistics since the variables do not match."
      ],
      "metadata": {
        "id": "EXvMh76Fb_0t"
      }
    },
    {
      "cell_type": "markdown",
      "source": [
        "First of all, we will create a new variable: \"Binary Rating'\n",
        "\n",
        "We will define any score below 4 as a low score and any score above 4 as a high score."
      ],
      "metadata": {
        "id": "LCqyv3rXeGZI"
      }
    },
    {
      "cell_type": "code",
      "source": [
        "data['Binary Rating'] = data['Rating'] > 4\n",
        "data['Binary Rating'] = data['Binary Rating'].map({False: 'Low', True: 'High'})\n",
        "data['Binary Rating'].head()"
      ],
      "metadata": {
        "id": "dDHyoeorZPXB"
      },
      "execution_count": null,
      "outputs": []
    },
    {
      "cell_type": "markdown",
      "source": [
        "The rating proportion is:"
      ],
      "metadata": {
        "id": "vNQKVEroee0J"
      }
    },
    {
      "cell_type": "code",
      "source": [
        "from locale import normalize\n",
        "(data['Rating'] > 4).value_counts(normalize = True)"
      ],
      "metadata": {
        "id": "5gS1mpaIbIka"
      },
      "execution_count": null,
      "outputs": []
    },
    {
      "cell_type": "markdown",
      "source": [
        "That is about 72% of the applications received a high rating and only 28% received a low rating."
      ],
      "metadata": {
        "id": "uR9rGOf2zHb9"
      }
    },
    {
      "cell_type": "markdown",
      "source": [
        "Let's start by testing the hypothesis regarding the effect of the app's price on the rating:\n",
        "- H0 -  There is no difference between the average app rating of free apps and paid apps\n",
        "- H1 - Paid apps are rated higher on average.\n",
        "\n",
        "Significance level: 0.05"
      ],
      "metadata": {
        "id": "EEF2U8AJfOos"
      }
    },
    {
      "cell_type": "code",
      "source": [
        "type_rating_table = pd.crosstab(data['Binary Rating'], data['Type'])\n",
        "type_rating_table"
      ],
      "metadata": {
        "id": "V0WxTdIL8F_Z"
      },
      "execution_count": null,
      "outputs": []
    },
    {
      "cell_type": "markdown",
      "source": [
        "Because there are very problematic proportions between the number of paid apps and the number of free apps, I will refer to the results with limited liability."
      ],
      "metadata": {
        "id": "maZ2Q4N_qfYO"
      }
    },
    {
      "cell_type": "code",
      "source": [
        "data['Type'].value_counts(normalize=True)['Paid']"
      ],
      "metadata": {
        "id": "sNFRCqwUYU5O"
      },
      "execution_count": null,
      "outputs": []
    },
    {
      "cell_type": "markdown",
      "source": [
        "I can calculate the proportions for each group simply by dividing the number of apps with high rating by the total number of apps in the same group:"
      ],
      "metadata": {
        "id": "zI9Epe-H95f6"
      }
    },
    {
      "cell_type": "markdown",
      "source": [
        "I built a function that will do the job:"
      ],
      "metadata": {
        "id": "QR0FnOJZBh8T"
      }
    },
    {
      "cell_type": "code",
      "source": [
        "def prop(col1,col2,table):\n",
        "  first_prop = table[col1]['High'] / table[col1].sum()\n",
        "  sec_prop = table[col2]['High'] / table[col2].sum()\n",
        "\n",
        "  print('Proportion of ' +col1+ f' with high rating: {first_prop}')\n",
        "  print('Proportion of ' +col2+ f'  with high rating: {sec_prop}')"
      ],
      "metadata": {
        "id": "jjVom6JY95f6"
      },
      "execution_count": null,
      "outputs": []
    },
    {
      "cell_type": "markdown",
      "source": [
        "The results for app's type will be:"
      ],
      "metadata": {
        "id": "dFoDbTFdBlhG"
      }
    },
    {
      "cell_type": "code",
      "source": [
        "prop('Paid','Free',type_rating_table)"
      ],
      "metadata": {
        "id": "NZ3jNkfCB5eo"
      },
      "execution_count": null,
      "outputs": []
    },
    {
      "cell_type": "markdown",
      "source": [
        "There is only a slight difference between free apps and paid apps..\n",
        "We will also test this using a chi-squared test."
      ],
      "metadata": {
        "id": "KRldFzSB95f7"
      }
    },
    {
      "cell_type": "code",
      "source": [
        "chi_stat, p_value, dof, expected_freq = stats.chi2_contingency(type_rating_table)\n",
        "\n",
        "print(f'Test statistic: {chi_stat}')\n",
        "print(f'p-value: {p_value}')\n",
        "print(f'Degs of freedom: {dof}')\n",
        "print(f'Expected frequencies: {expected_freq}')"
      ],
      "metadata": {
        "id": "aGMtqG3Wgb--"
      },
      "execution_count": null,
      "outputs": []
    },
    {
      "cell_type": "markdown",
      "source": [
        "The pValue are lower than 0.05 so we will reject the null hypothesis."
      ],
      "metadata": {
        "id": "KcIHnt_Cgved"
      }
    },
    {
      "cell_type": "markdown",
      "source": [
        "Now we will define apps whose last update was released until 2015 as old apps, and apps that were updated in later years as new apps."
      ],
      "metadata": {
        "id": "hHFGKynjkpHp"
      }
    },
    {
      "cell_type": "code",
      "source": [
        "data['Binary Age'] = data['Updated Year'] > 2015\n",
        "data['Binary Age'] = data['Binary Age'].map({False: 'previouse', True: 'recent'})\n",
        "data['Binary Age'].head()"
      ],
      "metadata": {
        "id": "c9r9PdriAN4X"
      },
      "execution_count": null,
      "outputs": []
    },
    {
      "cell_type": "markdown",
      "source": [
        "We will now examine the relationship between the rating of applications in recent years and the level of the rating in earlier years.\n",
        "- H0 - There is no difference in the level of rating that applications receive in recent years and in previous years.\n",
        "- H1 - Today the applications receive a higher rating.\n",
        "\n",
        "Significance level: 0.05"
      ],
      "metadata": {
        "id": "xv5blYcUofDU"
      }
    },
    {
      "cell_type": "code",
      "source": [
        "year_rating_table = pd.crosstab(data['Binary Rating'], data['Binary Age'])\n",
        "year_rating_table"
      ],
      "metadata": {
        "id": "cB6oddV37O16"
      },
      "execution_count": null,
      "outputs": []
    },
    {
      "cell_type": "markdown",
      "source": [
        "We can already see from the table that the ratio between low and high rating in old apps is smaller than in new apps.\n",
        "\n",
        "Therefore I will treat the results with skepticism because of the disproportion in the data between old and new apps."
      ],
      "metadata": {
        "id": "n8qCHx3zn-PC"
      }
    },
    {
      "cell_type": "markdown",
      "source": [
        "Calculation of the proportions for each group:"
      ],
      "metadata": {
        "id": "kxCaDwWz8HDp"
      }
    },
    {
      "cell_type": "code",
      "source": [
        "prop('previouse','recent',year_rating_table)"
      ],
      "metadata": {
        "id": "7xAcTw_HS78S"
      },
      "execution_count": null,
      "outputs": []
    },
    {
      "cell_type": "markdown",
      "source": [
        "It can be seen that indeed new applications receive a higher rating.\n",
        "We will also test this using a chi-squared test"
      ],
      "metadata": {
        "id": "hEg600eS9gJh"
      }
    },
    {
      "cell_type": "code",
      "source": [
        "chi_stat, p_value, dof, expected_freq = stats.chi2_contingency(year_rating_table)\n",
        "\n",
        "print(f'Test statistic: {chi_stat}')\n",
        "print(f'p-value: {p_value}')\n",
        "print(f'Degs of freedom: {dof}')\n",
        "print(f'Expected frequencies: {expected_freq}')"
      ],
      "metadata": {
        "id": "V-PakQ6wmYco"
      },
      "execution_count": null,
      "outputs": []
    },
    {
      "cell_type": "markdown",
      "source": [
        "The pValue are lower than 0.05 so we will reject the null hypothesis."
      ],
      "metadata": {
        "id": "Ax3pWsAVoKlr"
      }
    },
    {
      "cell_type": "markdown",
      "source": [
        "The first step is converting the values in 'Reviews' to numeric variables."
      ],
      "metadata": {
        "id": "ZgmVORfq9KwQ"
      }
    },
    {
      "cell_type": "code",
      "source": [
        "reviews = []\n",
        "for r in data['Reviews']:\n",
        "  reviews.append(int(r))\n",
        "reviews = np.array(reviews)\n",
        "data['Reviews'] = pd.Series(data=reviews, index= data.index)\n",
        "\n",
        "data['Reviews'].head()"
      ],
      "metadata": {
        "id": "ny5rTVOruR_m"
      },
      "execution_count": null,
      "outputs": []
    },
    {
      "cell_type": "code",
      "source": [
        "pd.crosstab(data['Binary Rating'], data['Reviews Level'])"
      ],
      "metadata": {
        "id": "RsjtCBGZ7rEF"
      },
      "execution_count": null,
      "outputs": []
    },
    {
      "cell_type": "markdown",
      "source": [
        "Next we will look at the number of reviews level. Here too, we will classify into two categories, over 10K and under 10K.\n",
        "We will put the new division under a new variable named 'Binary Reviews'."
      ],
      "metadata": {
        "id": "VH1WlsbQ8ofj"
      }
    },
    {
      "cell_type": "code",
      "source": [
        "data['Binary Review'] = data['Reviews'] > 10000\n",
        "data['Binary Review'] = data['Binary Review'].map({False: 'less than 10K', True: 'over 10K'})\n",
        "data['Binary Review'].head()"
      ],
      "metadata": {
        "id": "iJbapmeKsAGX"
      },
      "execution_count": null,
      "outputs": []
    },
    {
      "cell_type": "markdown",
      "source": [
        "We will now examine the relationship between the number of reviews and the rating level.\n",
        "\n",
        "H0 - The number of reviews has no effect on the rating height.\n",
        "\n",
        "H1 -There is a direct correlation between the number of reviews and the rating.\n",
        "\n",
        "Significance level: 0.05"
      ],
      "metadata": {
        "id": "XF-l_CdX9wQK"
      }
    },
    {
      "cell_type": "code",
      "source": [
        "review_rating_table = pd.crosstab(data['Binary Rating'], data['Binary Review'])\n",
        "review_rating_table"
      ],
      "metadata": {
        "id": "1BaQ9ZZ_OXwN"
      },
      "execution_count": null,
      "outputs": []
    },
    {
      "cell_type": "markdown",
      "source": [
        "Statistic tests:"
      ],
      "metadata": {
        "id": "9KLeqB2D_tuo"
      }
    },
    {
      "cell_type": "markdown",
      "source": [
        "Calculation of the proportions for each group:"
      ],
      "metadata": {
        "id": "vHM0RAaL_MJ2"
      }
    },
    {
      "cell_type": "code",
      "source": [
        "prop('less than 10K','over 10K',review_rating_table)"
      ],
      "metadata": {
        "id": "EtvM6atV_MJ3"
      },
      "execution_count": null,
      "outputs": []
    },
    {
      "cell_type": "markdown",
      "source": [
        "It can be seen that big number of reviews receive a higher rating.\n",
        "\n",
        "We will also test this using a chi-squared test"
      ],
      "metadata": {
        "id": "p6zU9kG3_MJ4"
      }
    },
    {
      "cell_type": "code",
      "source": [
        "chi_stat, p_value, dof, expected_freq = stats.chi2_contingency(review_rating_table)\n",
        "\n",
        "print(f'Test statistic: {chi_stat}')\n",
        "print(f'p-value: {p_value}')\n",
        "print(f'Degs of freedom: {dof}')\n",
        "print(f'Expected frequencies: {expected_freq}')"
      ],
      "metadata": {
        "id": "mgl-B80lOhOX"
      },
      "execution_count": null,
      "outputs": []
    },
    {
      "cell_type": "markdown",
      "source": [
        "The pValue are much lower than 0.05 so we will reject the null hypothesis. The amount of reviews is an indication of the level of the rating."
      ],
      "metadata": {
        "id": "8xcrPlSZ_5E8"
      }
    },
    {
      "cell_type": "markdown",
      "source": [
        "now we will converting the values in 'Installs' to ordinal variables."
      ],
      "metadata": {
        "id": "k4YskeOK2ZKt"
      }
    },
    {
      "cell_type": "code",
      "source": [
        "installs = []\n",
        "for r in data['Installs']:\n",
        "  installs.append(int(r[:-1].replace(',','')))\n",
        "installs = np.array(installs)\n",
        "data['Installs'] = pd.Series(data=installs, index= data.index)\n",
        "\n",
        "data['Installs'].head()"
      ],
      "metadata": {
        "id": "pHdoHyy4sPTo"
      },
      "execution_count": null,
      "outputs": []
    },
    {
      "cell_type": "code",
      "source": [
        "pd.crosstab(data['Binary Rating'], data['Installs Level'])"
      ],
      "metadata": {
        "id": "eq6WFIip7q6J"
      },
      "execution_count": null,
      "outputs": []
    },
    {
      "cell_type": "markdown",
      "source": [
        "Next we will look at the number of installs level. Here too, we will classify into two categories, over one million and under one million.\n",
        "We will put the new division under a new variable named 'Binary Install'."
      ],
      "metadata": {
        "id": "wol0DT983PBd"
      }
    },
    {
      "cell_type": "code",
      "source": [
        "data['Binary Install'] = data['Installs'] >= 1000000\n",
        "data['Binary Install'] = data['Binary Install'].map({False: 'less than 1 million', True: 'over 1 million'})\n",
        "data['Binary Install'].head()"
      ],
      "metadata": {
        "id": "Ar8P1RzOO15q"
      },
      "execution_count": null,
      "outputs": []
    },
    {
      "cell_type": "markdown",
      "source": [
        "We will now examine the relationship between the number of installs and the rating level.\n",
        "\n",
        "H0 - The number of installs has no effect on the rating height.\n",
        "\n",
        "H1 -There is a direct correlation between the number of installations and the rating.\n",
        "\n",
        "Significance level: 0.05"
      ],
      "metadata": {
        "id": "yiW_adAXXJpH"
      }
    },
    {
      "cell_type": "code",
      "source": [
        "install_rating_table = pd.crosstab(data['Binary Rating'], data['Binary Install'])\n",
        "install_rating_table"
      ],
      "metadata": {
        "id": "S9R6YJxEP8s0"
      },
      "execution_count": null,
      "outputs": []
    },
    {
      "cell_type": "markdown",
      "source": [
        "As shown in the table.\n",
        "In apps with less than 1 million downloads, low ratings are about three times more common than in apps with more than 1 million downloads, while high ratings are similar."
      ],
      "metadata": {
        "id": "wtWCIj6mXmWY"
      }
    },
    {
      "cell_type": "markdown",
      "source": [
        "Calculating the proportions:"
      ],
      "metadata": {
        "id": "bpMPjGjX_QPw"
      }
    },
    {
      "cell_type": "code",
      "source": [
        "prop('less than 1 million','over 1 million',install_rating_table)"
      ],
      "metadata": {
        "id": "-QLK0NAU_QPx"
      },
      "execution_count": null,
      "outputs": []
    },
    {
      "cell_type": "markdown",
      "source": [
        "It can be seen that applications with over 1 million installs get a higher rating from other apps.\n",
        "\n",
        "We will test this using a chi-squared test"
      ],
      "metadata": {
        "id": "aAaq-gfv_QPx"
      }
    },
    {
      "cell_type": "code",
      "source": [
        "chi_stat, p_value, dof, expected_freq = stats.chi2_contingency(install_rating_table)\n",
        "\n",
        "print(f'Test statistic: {chi_stat}')\n",
        "print(f'p-value: {p_value}')\n",
        "print(f'Degs of freedom: {dof}')\n",
        "print(f'Expected frequencies: {expected_freq}')"
      ],
      "metadata": {
        "id": "oRGK_a8dP9AH"
      },
      "execution_count": null,
      "outputs": []
    },
    {
      "cell_type": "markdown",
      "source": [
        "The pValue are much lower than 0.05 so we will reject the null hypothesis. That is, the amount of installations is indeed an indication of the level of the rating."
      ],
      "metadata": {
        "id": "5RFadGepQABQ"
      }
    },
    {
      "cell_type": "markdown",
      "source": [
        "In order to check the effect of the age of the users on the level of the rating, we will refer only to 'Teen' and 'Mature 17+' values."
      ],
      "metadata": {
        "id": "vOJkpNfRRA2j"
      }
    },
    {
      "cell_type": "code",
      "source": [
        "pd.crosstab(data['Binary Rating'], data['Content Rating'])"
      ],
      "metadata": {
        "id": "ccA4UIJ47qfZ"
      },
      "execution_count": null,
      "outputs": []
    },
    {
      "cell_type": "markdown",
      "source": [
        "We will create a new category called 'Rating Age' and use it for the calculations. In this category only the values we mentioned above are referred to."
      ],
      "metadata": {
        "id": "KnpNZPdMR7UH"
      }
    },
    {
      "cell_type": "code",
      "source": [
        "data['Rating Age'] = data['Content Rating']\n",
        "data['Rating Age'] = data['Rating Age'].map({'Teen':'Teen', 'Mature 17+':'Mature'})\n",
        "data['Rating Age'].head()"
      ],
      "metadata": {
        "id": "XymOLAvoRKs9"
      },
      "execution_count": null,
      "outputs": []
    },
    {
      "cell_type": "markdown",
      "source": [
        "We will now examine the relationship between the number of reviews and the rating level.\n",
        "\n",
        "H0 - The number of reviews has no effect on the rating height.\n",
        "\n",
        "H1 -There is a direct correlation between the number of reviews and the rating.\n",
        "\n",
        "Significance level: 0.05"
      ],
      "metadata": {
        "id": "UdFGDVuCXMzG"
      }
    },
    {
      "cell_type": "code",
      "source": [
        "age_rating_table = pd.crosstab(data['Binary Rating'], data['Rating Age'])\n",
        "age_rating_table"
      ],
      "metadata": {
        "id": "lI_SD0tiTYqz"
      },
      "execution_count": null,
      "outputs": []
    },
    {
      "cell_type": "markdown",
      "source": [
        "As we can see from the table, low rating to high rating proportion for teens looks like 2:7, while for Matures, the proportion is 1:2."
      ],
      "metadata": {
        "id": "pgjrY3r5VQs4"
      }
    },
    {
      "cell_type": "markdown",
      "source": [
        "I can calculate the proportions for each group simply by dividing the number of apps with high rating by the total number of apps in the same group:"
      ],
      "metadata": {
        "id": "xRHa22u0_SRI"
      }
    },
    {
      "cell_type": "code",
      "source": [
        "prop('Teen','Mature',age_rating_table)"
      ],
      "metadata": {
        "id": "p8qV1q40_SRI"
      },
      "execution_count": null,
      "outputs": []
    },
    {
      "cell_type": "markdown",
      "source": [
        "It can be seen that teen tend to score application higher than mature.\n",
        "\n",
        "The chi-squared test:"
      ],
      "metadata": {
        "id": "hrkZejfp_SRJ"
      }
    },
    {
      "cell_type": "code",
      "source": [
        "chi_stat, p_value, dof, expected_freq = stats.chi2_contingency(age_rating_table)\n",
        "\n",
        "print(f'Test statistic: {chi_stat}')\n",
        "print(f'p-value: {p_value}')\n",
        "print(f'Degs of freedom: {dof}')\n",
        "print(f'Expected frequencies: {expected_freq}')"
      ],
      "metadata": {
        "id": "P1to1AFv-SRx"
      },
      "execution_count": null,
      "outputs": []
    },
    {
      "cell_type": "markdown",
      "source": [
        "The pValue are lower than 0.05 so we will reject the null hypothesis. That mean teenage users tend to give higher rating than matures."
      ],
      "metadata": {
        "id": "BWYPjg2RVxPn"
      }
    },
    {
      "cell_type": "markdown",
      "source": [
        "\n",
        "Statistical tests are suitable for all hypotheses we have presented.\n",
        "- An app is more likely to score higher if it has a high number of users and reviews.\n",
        "- On average, newer apps are rated higher than older ones.\n",
        "- There is a tendency for young users to give higher ratings than older users.\n",
        "- On average, paid apps are rated higher than free ones.\n",
        "\n",
        "\n",
        "There can be several hypotheses regarding the causes of these correlations, including:\n",
        "- A good app attracts more users\n",
        "- In the past, people bothered to rate the apps less\n",
        "- Over time, apps began coaxing satisfied users into rating them\n",
        "- There is a tendency for people not to pay for apps before they are sure of their quality\n"
      ],
      "metadata": {
        "id": "xhoD_3JE7HKW"
      }
    },
    {
      "cell_type": "markdown",
      "source": [
        "# Random Forest"
      ],
      "metadata": {
        "id": "jLRt4EX0CnKd"
      }
    },
    {
      "cell_type": "markdown",
      "source": [
        "At this part we will use predication methods.\n",
        "\n",
        "Because there are not enough numerical values in the database, I chose to use the random forest method.\n",
        "\n",
        "The Random Forest method is able to handle categorical variables very well."
      ],
      "metadata": {
        "id": "sN3HKV0Ji-eT"
      }
    },
    {
      "cell_type": "markdown",
      "source": [
        "Importing the random forest method:"
      ],
      "metadata": {
        "id": "EY6-WGFBsc5I"
      }
    },
    {
      "cell_type": "code",
      "source": [
        "from sklearn.ensemble import RandomForestClassifier\n",
        "np.random.seed(0)   # setting random seed for reproducibility"
      ],
      "metadata": {
        "id": "puCl8iumbvOA"
      },
      "execution_count": null,
      "outputs": []
    },
    {
      "cell_type": "markdown",
      "source": [
        "Converting the nominal values to ordinal values."
      ],
      "metadata": {
        "id": "_aKIVuOXtya6"
      }
    },
    {
      "cell_type": "code",
      "source": [
        "data['Type'] = data['Type'].map({'Free':0, 'Paid':1})"
      ],
      "metadata": {
        "id": "BgecVxGUBWQn"
      },
      "execution_count": null,
      "outputs": []
    },
    {
      "cell_type": "code",
      "source": [
        "data['Binary Rating'] = data['Binary Rating'].map({'High': 1, 'Low': 0})"
      ],
      "metadata": {
        "id": "88BY666RFnSW"
      },
      "execution_count": null,
      "outputs": []
    },
    {
      "cell_type": "markdown",
      "source": [
        "Prepering the feature values and the target values of the prediction.\n",
        "Based on the features, the model will attempt to predict the target (rating)."
      ],
      "metadata": {
        "id": "bG-me9L0uHfb"
      }
    },
    {
      "cell_type": "code",
      "source": [
        "features = ['Updated Year','Installs', 'Type', 'Reviews']\n",
        "x = data[features].values\n",
        "y = data['Binary Rating'].values"
      ],
      "metadata": {
        "id": "x4CO_ZKhbwZQ"
      },
      "execution_count": null,
      "outputs": []
    },
    {
      "cell_type": "markdown",
      "source": [
        "Train random forest model."
      ],
      "metadata": {
        "id": "ZpVOR0YgvQMm"
      }
    },
    {
      "cell_type": "code",
      "source": [
        "ratingClassifierRF = RandomForestClassifier(n_estimators=10)\n",
        "ratingClassifierRF.fit(x,y)"
      ],
      "metadata": {
        "id": "Ymlpg3knduGJ"
      },
      "execution_count": null,
      "outputs": []
    },
    {
      "cell_type": "markdown",
      "source": [
        "Now we will add a new column to the database which will contain the prediction of the model.\n",
        "\n",
        "Next, we will examine its predictability using a cross table."
      ],
      "metadata": {
        "id": "027HyMJcvtES"
      }
    },
    {
      "cell_type": "code",
      "source": [
        "data['predictions_rf'] = ratingClassifierRF.predict(x)\n",
        "#np.count_nonzero(data['predictions_rf'] == 0)\n",
        "# Create confusion matrix\n",
        "conf_matrix = pd.crosstab(data['predictions_rf'], data['Binary Rating'], normalize=True)\n",
        "conf_matrix"
      ],
      "metadata": {
        "id": "yc1zxI1vEpG5"
      },
      "execution_count": null,
      "outputs": []
    },
    {
      "cell_type": "markdown",
      "source": [
        "Predation has a 95% success rate, as you can see.\n",
        "Our prediction of whether an application will receive a high score or a low score was successful since about 28% of the scores were low."
      ],
      "metadata": {
        "id": "TyKoMuEPyuUl"
      }
    },
    {
      "cell_type": "markdown",
      "source": [
        "# Conclusions"
      ],
      "metadata": {
        "id": "iR_t_jyNj_9Z"
      }
    },
    {
      "cell_type": "markdown",
      "source": [
        "**final results:**\n",
        "\n",
        "Data collected revealed that there is correlation between the ranking of the apps and most of the variables I examined - type,number of downloads, etc. The category of the app, on the other hand, probably doesn't affect the app's rating much.\n",
        "\n",
        "Additionally, we found that the distribution of ratings for the apps is positively asymmetric, with a small standard deviation and a high average.\n",
        "\n",
        "In addition, I saw that it is possible to use prediction models to predict whether an application received a high score - obove 4 - or a low score - under 4.\n",
        "\n",
        "Therefore, only one prediction model was likely to accurately predict whether the application would receive a high or low rating.\n",
        "\n",
        "**conclusion:**\n",
        "\n",
        "Also, the study shows that it is indeed possible to predict whether any application will receive a high or low rating.\n",
        "The parameters according to which we will assume that the application will receive a high rating are: a high amount of downloads and reviews, a new application, the application is intended for youth and is paid.\n",
        "\n",
        "Any combination of these parameters will be an indication of a high rating.\n",
        "\n",
        "**Research questions and analyses for future studies**\n",
        "\n",
        "Throughout my work I have been bothered by the fact that there is such a small amount of low rating so I would like to look into this.\n",
        "\n",
        "I propose the following research questions:\n",
        "\n",
        "- Why most of the apps get such a high rating?\n",
        "- Is it because people who don't like a certain app just delete it and don't bother to rate it?\n",
        "- How relevant is the rating in the app store and does it tell us anything about the app's quality?\n"
      ],
      "metadata": {
        "id": "LQdNqAPXzvRo"
      }
    }
  ],
  "metadata": {
    "colab": {
      "collapsed_sections": [
        "WkSMGhRRqYwg",
        "2xE_SWxnUV5Z",
        "XPwx6WjnOsmo"
      ],
      "provenance": [],
      "authorship_tag": "ABX9TyO1x85mfJTqHr5dWWsLF+LA",
      "include_colab_link": true
    },
    "kernelspec": {
      "display_name": "Python 3",
      "name": "python3"
    },
    "language_info": {
      "name": "python"
    }
  },
  "nbformat": 4,
  "nbformat_minor": 0
}